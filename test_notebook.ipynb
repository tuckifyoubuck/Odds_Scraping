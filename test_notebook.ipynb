{
 "cells": [
  {
   "cell_type": "markdown",
   "id": "da4477a1",
   "metadata": {},
   "source": [
    "# DraftKings"
   ]
  },
  {
   "cell_type": "code",
   "execution_count": 1,
   "id": "9c46a051",
   "metadata": {},
   "outputs": [],
   "source": [
    "import requests\n",
    "import json"
   ]
  },
  {
   "cell_type": "code",
   "execution_count": null,
   "id": "02b43d02",
   "metadata": {},
   "outputs": [],
   "source": [
    "dk_id_dict = {\n",
    "    'NHL': '42133',\n",
    "    'NFL': '88808',\n",
    "    'NBA': '42648',\n",
    "    'England - Premier League': '40253'\n",
    "}"
   ]
  },
  {
   "cell_type": "code",
   "execution_count": null,
   "id": "fc14d912",
   "metadata": {},
   "outputs": [],
   "source": [
    "dk_nba_url = f\"https://sportsbook.draftkings.com//sites/US-SB/api/v5/eventgroups/{dk_id_dict['NBA']}?format=json\"\n",
    "dk_nba_response = requests.get(dk_nba_url).json()"
   ]
  },
  {
   "cell_type": "code",
   "execution_count": null,
   "id": "86a21dca",
   "metadata": {},
   "outputs": [],
   "source": [
    "dk_nba_event_ids = {}\n",
    "\n",
    "for game in dk_nba_response['eventGroup']['events']:\n",
    "    dk_nba_event_ids[game['name']] = game['eventId']\n",
    "    \n",
    "for k, v in dk_nba_event_ids.items():\n",
    "    print(k+':', v)"
   ]
  },
  {
   "cell_type": "code",
   "execution_count": null,
   "id": "cee9cb9a",
   "metadata": {},
   "outputs": [],
   "source": [
    "dk_nba_game_list = []\n",
    "\n",
    "for game in dk_nba_response['eventGroup']['offerCategories'][0]['offerSubcategoryDescriptors'][0]['offerSubcategory']['offers']:\n",
    "    \n",
    "    market_list = []\n",
    "    for market in game:\n",
    "        try:\n",
    "            market_name = market['label']\n",
    "            #print(market_name)\n",
    "            if market_name == 'Moneyline':\n",
    "                away_team = market['outcomes'][0]['label']\n",
    "                home_team = market['outcomes'][1]['label']\n",
    "            \n",
    "            outcome_list = []\n",
    "            for outcome in market['outcomes']:\n",
    "                try:\n",
    "                    line = outcome['line']\n",
    "                    outcome_label = outcome['label'] + \" \" + str(line)\n",
    "                except:\n",
    "                    outcome_label = outcome['label']\n",
    "                outcome_odds = outcome['oddsAmerican']\n",
    "                outcome_list.append(\n",
    "                    {'label': outcome_label, 'odds': outcome_odds}\n",
    "                )\n",
    "                #print('\\t'+outcome_label+':', str(outcome_odds))\n",
    "                \n",
    "            market_list.append(\n",
    "                {'marketName': market_name, 'outcomes': outcome_list}\n",
    "            )\n",
    "                \n",
    "        except:\n",
    "            continue\n",
    "            \n",
    "    dk_nba_game_list.append(\n",
    "        {\"game\": f\"{away_team} @ {home_team}\", \"markets\": market_list}\n",
    "    )\n",
    "    #print()\n",
    "            \n",
    "#print('\\n'*10)\n",
    "\n",
    "for game in dk_nba_game_list:\n",
    "    print(game['game'])\n",
    "    for market in game['markets']:\n",
    "        print('\\t'+market['marketName'])\n",
    "        for outcome in market['outcomes']:\n",
    "            print('\\t\\t'+outcome['label']+ ':', outcome['odds'])"
   ]
  },
  {
   "cell_type": "code",
   "execution_count": null,
   "id": "5934dc1d",
   "metadata": {},
   "outputs": [],
   "source": []
  },
  {
   "cell_type": "code",
   "execution_count": null,
   "id": "6ede2d25",
   "metadata": {},
   "outputs": [],
   "source": []
  },
  {
   "cell_type": "code",
   "execution_count": null,
   "id": "296f1253",
   "metadata": {},
   "outputs": [],
   "source": []
  },
  {
   "cell_type": "code",
   "execution_count": null,
   "id": "996af1c8",
   "metadata": {},
   "outputs": [],
   "source": []
  },
  {
   "cell_type": "code",
   "execution_count": null,
   "id": "9fe37b9a",
   "metadata": {},
   "outputs": [],
   "source": []
  },
  {
   "cell_type": "code",
   "execution_count": null,
   "id": "634e9959",
   "metadata": {},
   "outputs": [],
   "source": []
  },
  {
   "cell_type": "code",
   "execution_count": null,
   "id": "7c8c75f5",
   "metadata": {},
   "outputs": [],
   "source": []
  },
  {
   "cell_type": "code",
   "execution_count": null,
   "id": "0ab7d56a",
   "metadata": {},
   "outputs": [],
   "source": []
  },
  {
   "cell_type": "code",
   "execution_count": null,
   "id": "f30c782a",
   "metadata": {},
   "outputs": [],
   "source": []
  },
  {
   "cell_type": "code",
   "execution_count": null,
   "id": "06e9470f",
   "metadata": {},
   "outputs": [],
   "source": []
  },
  {
   "cell_type": "markdown",
   "id": "b0737334",
   "metadata": {},
   "source": [
    "# BARSTOOL"
   ]
  },
  {
   "cell_type": "code",
   "execution_count": 10,
   "id": "8f696aee",
   "metadata": {},
   "outputs": [],
   "source": [
    "bs_id_dict = {\n",
    "    'NHL': 'ice_hockey/nhl',\n",
    "    'NBA': 'basketball/nba',\n",
    "    'MLB': 'baseball/mlb'\n",
    "}"
   ]
  },
  {
   "cell_type": "code",
   "execution_count": 11,
   "id": "8ab0e6d1",
   "metadata": {},
   "outputs": [],
   "source": [
    "bs_nba_url = f\"https://eu-offering-api.kambicdn.com/offering/v2018/pivuspa/listView/{bs_id_dict['NBA']}/all/all/matches.json?market=US&market=US&includeParticipants=true&useCombined=true&lang=en_US\"\n",
    "bs_nba_response = requests.get(bs_nba_url).json()"
   ]
  },
  {
   "cell_type": "markdown",
   "id": "328be818",
   "metadata": {},
   "source": [
    "- Obtain currently listed NBA events and their IDs\n",
    "- Save to dictionary"
   ]
  },
  {
   "cell_type": "code",
   "execution_count": 12,
   "id": "b008749e",
   "metadata": {},
   "outputs": [
    {
     "name": "stdout",
     "output_type": "stream",
     "text": [
      "WAS Wizards @ ATL Hawks: 1018936842\n",
      "LA Lakers @ MEM Grizzlies: 1018936700\n",
      "MIL Bucks @ BKN Nets: 1018936557\n",
      "CHI Bulls @ TOR Raptors: 1018937026\n",
      "SAC Kings @ OKC Thunder: 1018936986\n",
      "DEN Nuggets @ HOU Rockets: 1018936939\n",
      "IND Pacers @ DAL Mavericks: 1018936769\n",
      "SA Spurs @ UTA Jazz: 1018936638\n",
      "POR Trail Blazers @ GS Warriors: 1018936814\n",
      "MIN Timberwolves @ LA Clippers: 1018936787\n"
     ]
    }
   ],
   "source": [
    "bs_nba_event_ids = {}\n",
    "\n",
    "for game in bs_nba_response['events']:\n",
    "    bs_nba_event_ids[game['event']['name']] = game['event']['id']\n",
    "    \n",
    "for k, v in bs_nba_event_ids.items():\n",
    "    print(k+':', v)"
   ]
  },
  {
   "cell_type": "code",
   "execution_count": 13,
   "id": "6d9b38de",
   "metadata": {},
   "outputs": [
    {
     "name": "stdout",
     "output_type": "stream",
     "text": [
      "WAS Wizards @ ATL Hawks\n",
      "\tPoint Spread\n",
      "\t\tATL Hawks -7.0: -113\n",
      "\t\tWAS Wizards 7.0: -108\n",
      "\tMoneyline\n",
      "\t\tATL Hawks: -286\n",
      "\t\tWAS Wizards: 230\n",
      "\tTotal Points\n",
      "\t\tOver 233.5: -113\n",
      "\t\tUnder 233.5: -108\n",
      "LA Lakers @ MEM Grizzlies\n",
      "\tPoint Spread\n",
      "\t\tMEM Grizzlies -8.5: -114\n",
      "\t\tLA Lakers 8.5: -107\n",
      "\tMoneyline\n",
      "\t\tMEM Grizzlies: -385\n",
      "\t\tLA Lakers: 300\n",
      "\tTotal Points\n",
      "\t\tOver 230.5: -112\n",
      "\t\tUnder 230.5: -109\n",
      "MIL Bucks @ BKN Nets\n",
      "\tPoint Spread\n",
      "\t\tBKN Nets 7.0: -113\n",
      "\t\tMIL Bucks -7.0: -108\n",
      "\tMoneyline\n",
      "\t\tBKN Nets: 210\n",
      "\t\tMIL Bucks: -265\n",
      "\tTotal Points\n",
      "\t\tOver 230.5: -109\n",
      "\t\tUnder 230.5: -112\n",
      "CHI Bulls @ TOR Raptors\n",
      "\tPoint Spread\n",
      "\t\tTOR Raptors -5.0: -109\n",
      "\t\tCHI Bulls 5.0: -112\n",
      "\tMoneyline\n",
      "\t\tTOR Raptors: -205\n",
      "\t\tCHI Bulls: 170\n",
      "\tTotal Points\n",
      "\t\tOver 219.5: -109\n",
      "\t\tUnder 219.5: -112\n",
      "SAC Kings @ OKC Thunder\n",
      "\tPoint Spread\n",
      "\t\tOKC Thunder 2.0: -108\n",
      "\t\tSAC Kings -2.0: -113\n",
      "\tMoneyline\n",
      "\t\tOKC Thunder: 112\n",
      "\t\tSAC Kings: -132\n",
      "\tTotal Points\n",
      "\t\tOver 229.0: -112\n",
      "\t\tUnder 229.0: -109\n",
      "DEN Nuggets @ HOU Rockets\n",
      "\tPoint Spread\n",
      "\t\tHOU Rockets 11.0: -110\n",
      "\t\tDEN Nuggets -11.0: -110\n",
      "\tMoneyline\n",
      "\t\tHOU Rockets: 440\n",
      "\t\tDEN Nuggets: -590\n",
      "\tTotal Points\n",
      "\t\tOver 232.5: -108\n",
      "\t\tUnder 232.5: -113\n",
      "IND Pacers @ DAL Mavericks\n",
      "\tPoint Spread\n",
      "\t\tDAL Mavericks -9.0: -112\n",
      "\t\tIND Pacers 9.0: -109\n",
      "\tMoneyline\n",
      "\t\tDAL Mavericks: -375\n",
      "\t\tIND Pacers: 290\n",
      "\tTotal Points\n",
      "\t\tOver 237.0: -112\n",
      "\t\tUnder 237.0: -108\n",
      "SA Spurs @ UTA Jazz\n",
      "\tPoint Spread\n",
      "\t\tUTA Jazz -9.5: -108\n",
      "\t\tSA Spurs 9.5: -113\n",
      "\tMoneyline\n",
      "\t\tUTA Jazz: -435\n",
      "\t\tSA Spurs: 340\n",
      "\tTotal Points\n",
      "\t\tOver 235.5: -112\n",
      "\t\tUnder 235.5: -109\n",
      "POR Trail Blazers @ GS Warriors\n",
      "\tPoint Spread\n",
      "\t\tGS Warriors -5.0: -109\n",
      "\t\tPOR Trail Blazers 5.0: -112\n",
      "\tMoneyline\n",
      "\t\tGS Warriors: -195\n",
      "\t\tPOR Trail Blazers: 163\n",
      "\tTotal Points\n",
      "\t\tOver 235.0: -113\n",
      "\t\tUnder 235.0: -108\n",
      "MIN Timberwolves @ LA Clippers\n",
      "\tPoint Spread\n",
      "\t\tLA Clippers -6.5: -112\n",
      "\t\tMIN Timberwolves 6.5: -109\n",
      "\tMoneyline\n",
      "\t\tLA Clippers: -250\n",
      "\t\tMIN Timberwolves: 205\n",
      "\tTotal Points\n",
      "\t\tOver 233.5: -112\n",
      "\t\tUnder 233.5: -109\n"
     ]
    }
   ],
   "source": [
    "bs_nba_game_list = []\n",
    "\n",
    "for game in bs_nba_response['events']:\n",
    "    game_label = game['event']['name']\n",
    "    game_id = game['event']['id']\n",
    "    #print(game_label)\n",
    "    \n",
    "    offer_list = []\n",
    "    for offer in game['betOffers']:\n",
    "        offer_name = offer['criterion']['label']\n",
    "        #print('\\t'+offer_name)\n",
    "        \n",
    "        outcome_list = []\n",
    "        for outcome in offer['outcomes']:\n",
    "            try:\n",
    "                outcome_line = str(outcome['line']/1000)\n",
    "                outcome_label = outcome['label'] + ' ' + outcome_line\n",
    "            except:\n",
    "                outcome_label = outcome['label']\n",
    "            outcome_odds = outcome['oddsAmerican']\n",
    "            outcome_list.append(\n",
    "                {'label': outcome_label, 'odds': outcome_odds}\n",
    "            )\n",
    "            #print('\\t\\t'+outcome_label+':', outcome_odds)\n",
    "            \n",
    "        offer_list.append(\n",
    "            {'offerName': offer_name, 'outcomes': outcome_list}\n",
    "        )\n",
    "        \n",
    "    bs_nba_game_list.append(\n",
    "        {'game': game_label, 'offers': offer_list}\n",
    "    )\n",
    "    #print()\n",
    "\n",
    "#print('\\n'*10)\n",
    "    \n",
    "for game in bs_nba_game_list:\n",
    "    print(game['game'])\n",
    "    for offer in game['offers']:\n",
    "        print('\\t'+offer['offerName'])\n",
    "        for outcome in offer['outcomes']:\n",
    "            print('\\t\\t'+outcome['label']+ ':', outcome['odds'])"
   ]
  },
  {
   "cell_type": "code",
   "execution_count": null,
   "id": "66bf5508",
   "metadata": {},
   "outputs": [],
   "source": []
  },
  {
   "cell_type": "code",
   "execution_count": null,
   "id": "04a82af7",
   "metadata": {},
   "outputs": [],
   "source": []
  },
  {
   "cell_type": "code",
   "execution_count": null,
   "id": "c3e71ffc",
   "metadata": {},
   "outputs": [],
   "source": []
  },
  {
   "cell_type": "code",
   "execution_count": null,
   "id": "58c1745c",
   "metadata": {},
   "outputs": [],
   "source": [
    "from barstool_class import Barstool"
   ]
  },
  {
   "cell_type": "code",
   "execution_count": null,
   "id": "ab348ff5",
   "metadata": {},
   "outputs": [],
   "source": [
    "bs_nba = Barstool(league = 'NBA')\n",
    "ids = bs_nba.get_event_ids()\n",
    "ids"
   ]
  },
  {
   "cell_type": "code",
   "execution_count": null,
   "id": "1aedf427",
   "metadata": {},
   "outputs": [],
   "source": []
  },
  {
   "cell_type": "code",
   "execution_count": null,
   "id": "be70190b",
   "metadata": {},
   "outputs": [],
   "source": []
  },
  {
   "cell_type": "code",
   "execution_count": null,
   "id": "6223f48f",
   "metadata": {},
   "outputs": [],
   "source": []
  },
  {
   "cell_type": "code",
   "execution_count": null,
   "id": "5580cf6e",
   "metadata": {},
   "outputs": [],
   "source": []
  },
  {
   "cell_type": "markdown",
   "id": "489a51b6",
   "metadata": {},
   "source": [
    "# UNIBET"
   ]
  },
  {
   "cell_type": "code",
   "execution_count": 2,
   "id": "dcd22f70",
   "metadata": {},
   "outputs": [],
   "source": [
    "ub_id_dict = {\n",
    "    'NHL': 'ice_hockey/nhl',\n",
    "    'NBA': 'basketball/nba',\n",
    "    'MLB': 'baseball/mlb'\n",
    "}"
   ]
  },
  {
   "cell_type": "code",
   "execution_count": 14,
   "id": "91fd1f15",
   "metadata": {},
   "outputs": [],
   "source": [
    "ub_nba_url = f\"https://eu-offering-api.kambicdn.com/offering/v2018/ubusva/listView/{ub_id_dict['NBA']}/all/all/matches.json?lang=en_US&market=US-PA&client_id=2&channel_id=1&ncid=1677456670213&useCombined=true&useCombinedLive=true\"\n",
    "ub_nba_response = requests.get(ub_nba_url).json()"
   ]
  },
  {
   "cell_type": "code",
   "execution_count": 15,
   "id": "f5f08582",
   "metadata": {},
   "outputs": [
    {
     "name": "stdout",
     "output_type": "stream",
     "text": [
      "{'event': {'id': 1018936700, 'name': 'LA Lakers @ MEM Grizzlies', 'nameDelimiter': '@', 'englishName': 'Memphis Grizzlies - Los Angeles Lakers', 'homeName': 'MEM Grizzlies', 'awayName': 'LA Lakers', 'start': '2023-03-01T00:30:00Z', 'group': 'NBA', 'groupId': 1000093652, 'path': [{'id': 1000093204, 'name': 'Basketball', 'englishName': 'Basketball', 'termKey': 'basketball'}, {'id': 1000093652, 'name': 'NBA', 'englishName': 'NBA', 'termKey': 'nba'}], 'nonLiveBoCount': 206, 'sport': 'BASKETBALL', 'tags': ['AMERICAN_DISPLAY_FORMAT', 'AWAY_HOME', 'OFFERED_LIVE', 'BET_BUILDER', 'MATCH'], 'state': 'NOT_STARTED'}, 'betOffers': [{'id': 2370836223, 'closed': '2023-03-01T00:30:00Z', 'criterion': {'id': 1001159512, 'label': 'Point Spread', 'englishLabel': 'Handicap - Including Overtime', 'order': [], 'occurrenceType': 'POINTS', 'lifetime': 'FULL_TIME_OVERTIME'}, 'betOfferType': {'id': 1, 'name': 'Handicap', 'englishName': 'Handicap'}, 'eventId': 1018936700, 'outcomes': [{'id': 3233365210, 'label': 'MEM Grizzlies', 'englishLabel': 'Memphis Grizzlies', 'odds': 1880, 'line': -8500, 'participant': 'MEM Grizzlies', 'type': 'OT_ONE', 'betOfferId': 2370836223, 'changedDate': '2023-02-28T23:36:31Z', 'participantId': 1000000343, 'oddsFractional': '22/25', 'oddsAmerican': '-114', 'status': 'OPEN', 'cashOutStatus': 'ENABLED'}, {'id': 3233365211, 'label': 'LA Lakers', 'englishLabel': 'Los Angeles Lakers', 'odds': 1940, 'line': 8500, 'participant': 'LA Lakers', 'type': 'OT_TWO', 'betOfferId': 2370836223, 'changedDate': '2023-02-28T23:36:31Z', 'participantId': 1000000226, 'oddsFractional': '23/25', 'oddsAmerican': '-107', 'status': 'OPEN', 'cashOutStatus': 'ENABLED'}], 'tags': ['OFFERED_PREMATCH', 'MAIN_LINE', 'BET_BUILDER'], 'sortOrder': 1, 'cashOutStatus': 'ENABLED'}, {'id': 2370836205, 'closed': '2023-03-01T00:30:00Z', 'criterion': {'id': 1001159732, 'label': 'Moneyline', 'englishLabel': 'Including Overtime', 'order': [], 'occurrenceType': 'POINTS', 'lifetime': 'FULL_TIME_OVERTIME'}, 'betOfferType': {'id': 2, 'name': 'Match', 'englishName': 'Match'}, 'eventId': 1018936700, 'outcomes': [{'id': 3233365173, 'label': 'MEM Grizzlies', 'englishLabel': 'Memphis Grizzlies', 'odds': 1260, 'participant': 'MEM Grizzlies', 'type': 'OT_ONE', 'betOfferId': 2370836205, 'changedDate': '2023-02-28T23:36:31Z', 'participantId': 1000000343, 'oddsFractional': '1/4', 'oddsAmerican': '-385', 'status': 'OPEN', 'cashOutStatus': 'ENABLED'}, {'id': 3233365175, 'label': 'LA Lakers', 'englishLabel': 'Los Angeles Lakers', 'odds': 4000, 'participant': 'LA Lakers', 'type': 'OT_TWO', 'betOfferId': 2370836205, 'changedDate': '2023-02-28T23:36:31Z', 'participantId': 1000000226, 'oddsFractional': '3/1', 'oddsAmerican': '300', 'status': 'OPEN', 'cashOutStatus': 'ENABLED'}], 'tags': ['OFFERED_PREMATCH', 'BET_BUILDER', 'MAIN'], 'sortOrder': 2, 'cashOutStatus': 'ENABLED'}, {'id': 2370870470, 'closed': '2023-03-01T00:30:00Z', 'criterion': {'id': 1001159509, 'label': 'Total Points', 'englishLabel': 'Total Points - Including Overtime', 'order': [], 'occurrenceType': 'POINTS', 'lifetime': 'FULL_TIME_OVERTIME'}, 'betOfferType': {'id': 6, 'name': 'Over/Under', 'englishName': 'Over/Under'}, 'eventId': 1018936700, 'outcomes': [{'id': 3233467238, 'label': 'Over', 'englishLabel': 'Over', 'odds': 1900, 'line': 230500, 'type': 'OT_OVER', 'betOfferId': 2370870470, 'changedDate': '2023-02-28T23:36:31Z', 'oddsFractional': '9/10', 'oddsAmerican': '-112', 'status': 'OPEN', 'cashOutStatus': 'ENABLED'}, {'id': 3233467248, 'label': 'Under', 'englishLabel': 'Under', 'odds': 1920, 'line': 230500, 'type': 'OT_UNDER', 'betOfferId': 2370870470, 'changedDate': '2023-02-28T23:36:31Z', 'oddsFractional': '10/11', 'oddsAmerican': '-109', 'status': 'OPEN', 'cashOutStatus': 'ENABLED'}], 'tags': ['OFFERED_PREMATCH', 'MAIN_LINE', 'BET_BUILDER'], 'sortOrder': 3, 'cashOutStatus': 'ENABLED'}]}\n",
      "\n",
      "{'event': {'id': 1018936557, 'name': 'MIL Bucks @ BKN Nets', 'nameDelimiter': '@', 'englishName': 'Brooklyn Nets - Milwaukee Bucks', 'homeName': 'BKN Nets', 'awayName': 'MIL Bucks', 'start': '2023-03-01T00:30:00Z', 'group': 'NBA', 'groupId': 1000093652, 'path': [{'id': 1000093204, 'name': 'Basketball', 'englishName': 'Basketball', 'termKey': 'basketball'}, {'id': 1000093652, 'name': 'NBA', 'englishName': 'NBA', 'termKey': 'nba'}], 'nonLiveBoCount': 209, 'sport': 'BASKETBALL', 'tags': ['AMERICAN_DISPLAY_FORMAT', 'AWAY_HOME', 'OFFERED_LIVE', 'BET_BUILDER', 'MATCH'], 'state': 'NOT_STARTED'}, 'betOffers': [{'id': 2370854292, 'closed': '2023-03-01T00:30:00Z', 'criterion': {'id': 1001159512, 'label': 'Point Spread', 'englishLabel': 'Handicap - Including Overtime', 'order': [], 'occurrenceType': 'POINTS', 'lifetime': 'FULL_TIME_OVERTIME'}, 'betOfferType': {'id': 1, 'name': 'Handicap', 'englishName': 'Handicap'}, 'eventId': 1018936557, 'outcomes': [{'id': 3233469731, 'label': 'BKN Nets', 'englishLabel': 'Brooklyn Nets', 'odds': 1890, 'line': 7000, 'participant': 'BKN Nets', 'type': 'OT_ONE', 'betOfferId': 2370854292, 'changedDate': '2023-02-28T23:21:15Z', 'participantId': 1000000213, 'oddsFractional': '22/25', 'oddsAmerican': '-113', 'status': 'OPEN', 'cashOutStatus': 'ENABLED'}, {'id': 3233469748, 'label': 'MIL Bucks', 'englishLabel': 'Milwaukee Bucks', 'odds': 1930, 'line': -7000, 'participant': 'MIL Bucks', 'type': 'OT_TWO', 'betOfferId': 2370854292, 'changedDate': '2023-02-28T23:21:15Z', 'participantId': 1000000219, 'oddsFractional': '10/11', 'oddsAmerican': '-108', 'status': 'OPEN', 'cashOutStatus': 'ENABLED'}], 'tags': ['OFFERED_PREMATCH', 'MAIN_LINE', 'BET_BUILDER'], 'sortOrder': 1, 'cashOutStatus': 'ENABLED'}, {'id': 2370820542, 'closed': '2023-03-01T00:30:00Z', 'criterion': {'id': 1001159732, 'label': 'Moneyline', 'englishLabel': 'Including Overtime', 'order': [], 'occurrenceType': 'POINTS', 'lifetime': 'FULL_TIME_OVERTIME'}, 'betOfferType': {'id': 2, 'name': 'Match', 'englishName': 'Match'}, 'eventId': 1018936557, 'outcomes': [{'id': 3233355019, 'label': 'BKN Nets', 'englishLabel': 'Brooklyn Nets', 'odds': 3100, 'participant': 'BKN Nets', 'type': 'OT_ONE', 'betOfferId': 2370820542, 'changedDate': '2023-02-28T23:21:15Z', 'participantId': 1000000213, 'oddsFractional': '21/10', 'oddsAmerican': '210', 'status': 'OPEN', 'cashOutStatus': 'ENABLED'}, {'id': 3233355021, 'label': 'MIL Bucks', 'englishLabel': 'Milwaukee Bucks', 'odds': 1380, 'participant': 'MIL Bucks', 'type': 'OT_TWO', 'betOfferId': 2370820542, 'changedDate': '2023-02-28T23:21:15Z', 'participantId': 1000000219, 'oddsFractional': '4/11', 'oddsAmerican': '-265', 'status': 'OPEN', 'cashOutStatus': 'ENABLED'}], 'tags': ['OFFERED_PREMATCH', 'BET_BUILDER', 'MAIN'], 'sortOrder': 2, 'cashOutStatus': 'ENABLED'}, {'id': 2370854236, 'closed': '2023-03-01T00:30:00Z', 'criterion': {'id': 1001159509, 'label': 'Total Points', 'englishLabel': 'Total Points - Including Overtime', 'order': [], 'occurrenceType': 'POINTS', 'lifetime': 'FULL_TIME_OVERTIME'}, 'betOfferType': {'id': 6, 'name': 'Over/Under', 'englishName': 'Over/Under'}, 'eventId': 1018936557, 'outcomes': [{'id': 3233469619, 'label': 'Over', 'englishLabel': 'Over', 'odds': 1920, 'line': 230500, 'type': 'OT_OVER', 'betOfferId': 2370854236, 'changedDate': '2023-02-28T23:21:14Z', 'oddsFractional': '10/11', 'oddsAmerican': '-109', 'status': 'OPEN', 'cashOutStatus': 'ENABLED'}, {'id': 3233469632, 'label': 'Under', 'englishLabel': 'Under', 'odds': 1900, 'line': 230500, 'type': 'OT_UNDER', 'betOfferId': 2370854236, 'changedDate': '2023-02-28T23:21:14Z', 'oddsFractional': '9/10', 'oddsAmerican': '-112', 'status': 'OPEN', 'cashOutStatus': 'ENABLED'}], 'tags': ['OFFERED_PREMATCH', 'MAIN_LINE', 'BET_BUILDER'], 'sortOrder': 3, 'cashOutStatus': 'ENABLED'}]}\n",
      "\n",
      "{'event': {'id': 1018936842, 'name': 'WAS Wizards @ ATL Hawks', 'nameDelimiter': '@', 'englishName': 'Atlanta Hawks - Washington Wizards', 'homeName': 'ATL Hawks', 'awayName': 'WAS Wizards', 'start': '2023-03-01T00:30:00Z', 'group': 'NBA', 'groupId': 1000093652, 'path': [{'id': 1000093204, 'name': 'Basketball', 'englishName': 'Basketball', 'termKey': 'basketball'}, {'id': 1000093652, 'name': 'NBA', 'englishName': 'NBA', 'termKey': 'nba'}], 'nonLiveBoCount': 216, 'sport': 'BASKETBALL', 'tags': ['AMERICAN_DISPLAY_FORMAT', 'AWAY_HOME', 'OFFERED_LIVE', 'BET_BUILDER', 'MATCH'], 'state': 'NOT_STARTED'}, 'betOffers': [{'id': 2370840278, 'closed': '2023-03-01T00:30:00Z', 'criterion': {'id': 1001159512, 'label': 'Point Spread', 'englishLabel': 'Handicap - Including Overtime', 'order': [], 'occurrenceType': 'POINTS', 'lifetime': 'FULL_TIME_OVERTIME'}, 'betOfferType': {'id': 1, 'name': 'Handicap', 'englishName': 'Handicap'}, 'eventId': 1018936842, 'outcomes': [{'id': 3233370284, 'label': 'ATL Hawks', 'englishLabel': 'Atlanta Hawks', 'odds': 1890, 'line': -7000, 'participant': 'ATL Hawks', 'type': 'OT_ONE', 'betOfferId': 2370840278, 'changedDate': '2023-02-28T23:44:12Z', 'participantId': 1000037508, 'oddsFractional': '22/25', 'oddsAmerican': '-113', 'status': 'OPEN', 'cashOutStatus': 'ENABLED'}, {'id': 3233370287, 'label': 'WAS Wizards', 'englishLabel': 'Washington Wizards', 'odds': 1930, 'line': 7000, 'participant': 'WAS Wizards', 'type': 'OT_TWO', 'betOfferId': 2370840278, 'changedDate': '2023-02-28T23:44:12Z', 'participantId': 1000000214, 'oddsFractional': '10/11', 'oddsAmerican': '-108', 'status': 'OPEN', 'cashOutStatus': 'ENABLED'}], 'tags': ['OFFERED_PREMATCH', 'MAIN_LINE', 'BET_BUILDER'], 'sortOrder': 1, 'cashOutStatus': 'ENABLED'}, {'id': 2370840265, 'closed': '2023-03-01T00:30:00Z', 'criterion': {'id': 1001159732, 'label': 'Moneyline', 'englishLabel': 'Including Overtime', 'order': [], 'occurrenceType': 'POINTS', 'lifetime': 'FULL_TIME_OVERTIME'}, 'betOfferType': {'id': 2, 'name': 'Match', 'englishName': 'Match'}, 'eventId': 1018936842, 'outcomes': [{'id': 3233370258, 'label': 'ATL Hawks', 'englishLabel': 'Atlanta Hawks', 'odds': 1350, 'participant': 'ATL Hawks', 'type': 'OT_ONE', 'betOfferId': 2370840265, 'changedDate': '2023-02-28T23:44:12Z', 'participantId': 1000037508, 'oddsFractional': '7/20', 'oddsAmerican': '-286', 'status': 'OPEN', 'cashOutStatus': 'ENABLED'}, {'id': 3233370259, 'label': 'WAS Wizards', 'englishLabel': 'Washington Wizards', 'odds': 3300, 'participant': 'WAS Wizards', 'type': 'OT_TWO', 'betOfferId': 2370840265, 'changedDate': '2023-02-28T23:44:12Z', 'participantId': 1000000214, 'oddsFractional': '23/10', 'oddsAmerican': '230', 'status': 'OPEN', 'cashOutStatus': 'ENABLED'}], 'tags': ['OFFERED_PREMATCH', 'BET_BUILDER', 'MAIN'], 'sortOrder': 2, 'cashOutStatus': 'ENABLED'}, {'id': 2370840300, 'closed': '2023-03-01T00:30:00Z', 'criterion': {'id': 1001159509, 'label': 'Total Points', 'englishLabel': 'Total Points - Including Overtime', 'order': [], 'occurrenceType': 'POINTS', 'lifetime': 'FULL_TIME_OVERTIME'}, 'betOfferType': {'id': 6, 'name': 'Over/Under', 'englishName': 'Over/Under'}, 'eventId': 1018936842, 'outcomes': [{'id': 3233370334, 'label': 'Over', 'englishLabel': 'Over', 'odds': 1890, 'line': 233500, 'type': 'OT_OVER', 'betOfferId': 2370840300, 'changedDate': '2023-02-28T23:44:12Z', 'oddsFractional': '22/25', 'oddsAmerican': '-113', 'status': 'OPEN', 'cashOutStatus': 'ENABLED'}, {'id': 3233370335, 'label': 'Under', 'englishLabel': 'Under', 'odds': 1930, 'line': 233500, 'type': 'OT_UNDER', 'betOfferId': 2370840300, 'changedDate': '2023-02-28T23:44:12Z', 'oddsFractional': '10/11', 'oddsAmerican': '-108', 'status': 'OPEN', 'cashOutStatus': 'ENABLED'}], 'tags': ['OFFERED_PREMATCH', 'MAIN_LINE', 'BET_BUILDER'], 'sortOrder': 3, 'cashOutStatus': 'ENABLED'}]}\n",
      "\n",
      "{'event': {'id': 1018937026, 'name': 'CHI Bulls @ TOR Raptors', 'nameDelimiter': '@', 'englishName': 'Toronto Raptors - Chicago Bulls', 'homeName': 'TOR Raptors', 'awayName': 'CHI Bulls', 'start': '2023-03-01T00:30:00Z', 'group': 'NBA', 'groupId': 1000093652, 'path': [{'id': 1000093204, 'name': 'Basketball', 'englishName': 'Basketball', 'termKey': 'basketball'}, {'id': 1000093652, 'name': 'NBA', 'englishName': 'NBA', 'termKey': 'nba'}], 'nonLiveBoCount': 213, 'sport': 'BASKETBALL', 'tags': ['AMERICAN_DISPLAY_FORMAT', 'AWAY_HOME', 'OFFERED_LIVE', 'BET_BUILDER', 'MATCH'], 'state': 'NOT_STARTED'}, 'betOffers': [{'id': 2370840347, 'closed': '2023-03-01T00:30:00Z', 'criterion': {'id': 1001159512, 'label': 'Point Spread', 'englishLabel': 'Handicap - Including Overtime', 'order': [], 'occurrenceType': 'POINTS', 'lifetime': 'FULL_TIME_OVERTIME'}, 'betOfferType': {'id': 1, 'name': 'Handicap', 'englishName': 'Handicap'}, 'eventId': 1018937026, 'outcomes': [{'id': 3233370493, 'label': 'TOR Raptors', 'englishLabel': 'Toronto Raptors', 'odds': 1920, 'line': -5000, 'participant': 'TOR Raptors', 'type': 'OT_ONE', 'betOfferId': 2370840347, 'changedDate': '2023-02-28T23:51:15Z', 'participantId': 1000000220, 'oddsFractional': '10/11', 'oddsAmerican': '-109', 'status': 'OPEN', 'cashOutStatus': 'ENABLED'}, {'id': 3233370495, 'label': 'CHI Bulls', 'englishLabel': 'Chicago Bulls', 'odds': 1900, 'line': 5000, 'participant': 'CHI Bulls', 'type': 'OT_TWO', 'betOfferId': 2370840347, 'changedDate': '2023-02-28T23:51:15Z', 'participantId': 1000000215, 'oddsFractional': '9/10', 'oddsAmerican': '-112', 'status': 'OPEN', 'cashOutStatus': 'ENABLED'}], 'tags': ['OFFERED_PREMATCH', 'MAIN_LINE', 'BET_BUILDER'], 'sortOrder': 1, 'cashOutStatus': 'ENABLED'}, {'id': 2370840342, 'closed': '2023-03-01T00:30:00Z', 'criterion': {'id': 1001159732, 'label': 'Moneyline', 'englishLabel': 'Including Overtime', 'order': [], 'occurrenceType': 'POINTS', 'lifetime': 'FULL_TIME_OVERTIME'}, 'betOfferType': {'id': 2, 'name': 'Match', 'englishName': 'Match'}, 'eventId': 1018937026, 'outcomes': [{'id': 3233370483, 'label': 'TOR Raptors', 'englishLabel': 'Toronto Raptors', 'odds': 1490, 'participant': 'TOR Raptors', 'type': 'OT_ONE', 'betOfferId': 2370840342, 'changedDate': '2023-02-28T23:51:15Z', 'participantId': 1000000220, 'oddsFractional': '12/25', 'oddsAmerican': '-205', 'status': 'OPEN', 'cashOutStatus': 'ENABLED'}, {'id': 3233370486, 'label': 'CHI Bulls', 'englishLabel': 'Chicago Bulls', 'odds': 2700, 'participant': 'CHI Bulls', 'type': 'OT_TWO', 'betOfferId': 2370840342, 'changedDate': '2023-02-28T23:51:15Z', 'participantId': 1000000215, 'oddsFractional': '17/10', 'oddsAmerican': '170', 'status': 'OPEN', 'cashOutStatus': 'ENABLED'}], 'tags': ['OFFERED_PREMATCH', 'BET_BUILDER', 'MAIN'], 'sortOrder': 2, 'cashOutStatus': 'ENABLED'}, {'id': 2370840345, 'closed': '2023-03-01T00:30:00Z', 'criterion': {'id': 1001159509, 'label': 'Total Points', 'englishLabel': 'Total Points - Including Overtime', 'order': [], 'occurrenceType': 'POINTS', 'lifetime': 'FULL_TIME_OVERTIME'}, 'betOfferType': {'id': 6, 'name': 'Over/Under', 'englishName': 'Over/Under'}, 'eventId': 1018937026, 'outcomes': [{'id': 3233370489, 'label': 'Over', 'englishLabel': 'Over', 'odds': 1920, 'line': 219500, 'type': 'OT_OVER', 'betOfferId': 2370840345, 'changedDate': '2023-02-28T23:51:15Z', 'oddsFractional': '10/11', 'oddsAmerican': '-109', 'status': 'OPEN', 'cashOutStatus': 'ENABLED'}, {'id': 3233370491, 'label': 'Under', 'englishLabel': 'Under', 'odds': 1900, 'line': 219500, 'type': 'OT_UNDER', 'betOfferId': 2370840345, 'changedDate': '2023-02-28T23:51:15Z', 'oddsFractional': '9/10', 'oddsAmerican': '-112', 'status': 'OPEN', 'cashOutStatus': 'ENABLED'}], 'tags': ['OFFERED_PREMATCH', 'MAIN_LINE', 'BET_BUILDER'], 'sortOrder': 3, 'cashOutStatus': 'ENABLED'}]}\n",
      "\n",
      "{'event': {'id': 1018936939, 'name': 'DEN Nuggets @ HOU Rockets', 'nameDelimiter': '@', 'englishName': 'Houston Rockets - Denver Nuggets', 'homeName': 'HOU Rockets', 'awayName': 'DEN Nuggets', 'start': '2023-03-01T01:00:00Z', 'group': 'NBA', 'groupId': 1000093652, 'path': [{'id': 1000093204, 'name': 'Basketball', 'englishName': 'Basketball', 'termKey': 'basketball'}, {'id': 1000093652, 'name': 'NBA', 'englishName': 'NBA', 'termKey': 'nba'}], 'nonLiveBoCount': 191, 'sport': 'BASKETBALL', 'tags': ['AMERICAN_DISPLAY_FORMAT', 'AWAY_HOME', 'OFFERED_LIVE', 'BET_BUILDER', 'MATCH'], 'state': 'NOT_STARTED'}, 'betOffers': [{'id': 2370836608, 'closed': '2023-03-01T01:00:00Z', 'criterion': {'id': 1001159512, 'label': 'Point Spread', 'englishLabel': 'Handicap - Including Overtime', 'order': [], 'occurrenceType': 'POINTS', 'lifetime': 'FULL_TIME_OVERTIME'}, 'betOfferType': {'id': 1, 'name': 'Handicap', 'englishName': 'Handicap'}, 'eventId': 1018936939, 'outcomes': [{'id': 3233400638, 'label': 'HOU Rockets', 'englishLabel': 'Houston Rockets', 'odds': 1910, 'line': 11000, 'participant': 'HOU Rockets', 'type': 'OT_ONE', 'betOfferId': 2370836608, 'changedDate': '2023-02-28T23:50:20Z', 'participantId': 1000018005, 'oddsFractional': '10/11', 'oddsAmerican': '-110', 'status': 'OPEN', 'cashOutStatus': 'ENABLED'}, {'id': 3233400640, 'label': 'DEN Nuggets', 'englishLabel': 'Denver Nuggets', 'odds': 1910, 'line': -11000, 'participant': 'DEN Nuggets', 'type': 'OT_TWO', 'betOfferId': 2370836608, 'changedDate': '2023-02-28T23:50:20Z', 'participantId': 1000000222, 'oddsFractional': '10/11', 'oddsAmerican': '-110', 'status': 'OPEN', 'cashOutStatus': 'ENABLED'}], 'tags': ['OFFERED_PREMATCH', 'MAIN_LINE', 'BET_BUILDER'], 'sortOrder': 1, 'cashOutStatus': 'ENABLED'}, {'id': 2370836591, 'closed': '2023-03-01T01:00:00Z', 'criterion': {'id': 1001159732, 'label': 'Moneyline', 'englishLabel': 'Including Overtime', 'order': [], 'occurrenceType': 'POINTS', 'lifetime': 'FULL_TIME_OVERTIME'}, 'betOfferType': {'id': 2, 'name': 'Match', 'englishName': 'Match'}, 'eventId': 1018936939, 'outcomes': [{'id': 3233400605, 'label': 'HOU Rockets', 'englishLabel': 'Houston Rockets', 'odds': 5400, 'participant': 'HOU Rockets', 'type': 'OT_ONE', 'betOfferId': 2370836591, 'changedDate': '2023-02-28T23:50:20Z', 'participantId': 1000018005, 'oddsFractional': '22/5', 'oddsAmerican': '440', 'status': 'OPEN', 'cashOutStatus': 'ENABLED'}, {'id': 3233400607, 'label': 'DEN Nuggets', 'englishLabel': 'Denver Nuggets', 'odds': 1170, 'participant': 'DEN Nuggets', 'type': 'OT_TWO', 'betOfferId': 2370836591, 'changedDate': '2023-02-28T23:50:20Z', 'participantId': 1000000222, 'oddsFractional': '1/6', 'oddsAmerican': '-590', 'status': 'OPEN', 'cashOutStatus': 'ENABLED'}], 'tags': ['OFFERED_PREMATCH', 'BET_BUILDER', 'MAIN'], 'sortOrder': 2, 'cashOutStatus': 'ENABLED'}, {'id': 2370836653, 'closed': '2023-03-01T01:00:00Z', 'criterion': {'id': 1001159509, 'label': 'Total Points', 'englishLabel': 'Total Points - Including Overtime', 'order': [], 'occurrenceType': 'POINTS', 'lifetime': 'FULL_TIME_OVERTIME'}, 'betOfferType': {'id': 6, 'name': 'Over/Under', 'englishName': 'Over/Under'}, 'eventId': 1018936939, 'outcomes': [{'id': 3233400729, 'label': 'Over', 'englishLabel': 'Over', 'odds': 1930, 'line': 232500, 'type': 'OT_OVER', 'betOfferId': 2370836653, 'changedDate': '2023-02-28T23:50:20Z', 'oddsFractional': '10/11', 'oddsAmerican': '-108', 'status': 'OPEN', 'cashOutStatus': 'ENABLED'}, {'id': 3233400730, 'label': 'Under', 'englishLabel': 'Under', 'odds': 1890, 'line': 232500, 'type': 'OT_UNDER', 'betOfferId': 2370836653, 'changedDate': '2023-02-28T23:50:20Z', 'oddsFractional': '22/25', 'oddsAmerican': '-113', 'status': 'OPEN', 'cashOutStatus': 'ENABLED'}], 'tags': ['OFFERED_PREMATCH', 'MAIN_LINE', 'BET_BUILDER'], 'sortOrder': 3, 'cashOutStatus': 'ENABLED'}]}\n",
      "\n",
      "{'event': {'id': 1018936986, 'name': 'SAC Kings @ OKC Thunder', 'nameDelimiter': '@', 'englishName': 'Oklahoma City Thunder - Sacramento Kings', 'homeName': 'OKC Thunder', 'awayName': 'SAC Kings', 'start': '2023-03-01T01:00:00Z', 'group': 'NBA', 'groupId': 1000093652, 'path': [{'id': 1000093204, 'name': 'Basketball', 'englishName': 'Basketball', 'termKey': 'basketball'}, {'id': 1000093652, 'name': 'NBA', 'englishName': 'NBA', 'termKey': 'nba'}], 'nonLiveBoCount': 192, 'sport': 'BASKETBALL', 'tags': ['AMERICAN_DISPLAY_FORMAT', 'AWAY_HOME', 'OFFERED_LIVE', 'BET_BUILDER', 'MATCH'], 'state': 'NOT_STARTED'}, 'betOffers': [{'id': 2370820572, 'closed': '2023-03-01T01:00:00Z', 'criterion': {'id': 1001159512, 'label': 'Point Spread', 'englishLabel': 'Handicap - Including Overtime', 'order': [], 'occurrenceType': 'POINTS', 'lifetime': 'FULL_TIME_OVERTIME'}, 'betOfferType': {'id': 1, 'name': 'Handicap', 'englishName': 'Handicap'}, 'eventId': 1018936986, 'outcomes': [{'id': 3233355079, 'label': 'OKC Thunder', 'englishLabel': 'Oklahoma City Thunder', 'odds': 1930, 'line': 2000, 'participant': 'OKC Thunder', 'type': 'OT_ONE', 'betOfferId': 2370820572, 'changedDate': '2023-02-28T23:50:17Z', 'participantId': 1000457716, 'oddsFractional': '10/11', 'oddsAmerican': '-108', 'status': 'OPEN', 'cashOutStatus': 'ENABLED'}, {'id': 3233355080, 'label': 'SAC Kings', 'englishLabel': 'Sacramento Kings', 'odds': 1890, 'line': -2000, 'participant': 'SAC Kings', 'type': 'OT_TWO', 'betOfferId': 2370820572, 'changedDate': '2023-02-28T23:50:17Z', 'participantId': 1000000228, 'oddsFractional': '22/25', 'oddsAmerican': '-113', 'status': 'OPEN', 'cashOutStatus': 'ENABLED'}], 'tags': ['OFFERED_PREMATCH', 'MAIN_LINE', 'BET_BUILDER'], 'sortOrder': 1, 'cashOutStatus': 'ENABLED'}, {'id': 2370820557, 'closed': '2023-03-01T01:00:00Z', 'criterion': {'id': 1001159732, 'label': 'Moneyline', 'englishLabel': 'Including Overtime', 'order': [], 'occurrenceType': 'POINTS', 'lifetime': 'FULL_TIME_OVERTIME'}, 'betOfferType': {'id': 2, 'name': 'Match', 'englishName': 'Match'}, 'eventId': 1018936986, 'outcomes': [{'id': 3233355049, 'label': 'OKC Thunder', 'englishLabel': 'Oklahoma City Thunder', 'odds': 2120, 'participant': 'OKC Thunder', 'type': 'OT_ONE', 'betOfferId': 2370820557, 'changedDate': '2023-02-28T23:50:17Z', 'participantId': 1000457716, 'oddsFractional': '11/10', 'oddsAmerican': '112', 'status': 'OPEN', 'cashOutStatus': 'ENABLED'}, {'id': 3233355052, 'label': 'SAC Kings', 'englishLabel': 'Sacramento Kings', 'odds': 1760, 'participant': 'SAC Kings', 'type': 'OT_TWO', 'betOfferId': 2370820557, 'changedDate': '2023-02-28T23:50:17Z', 'participantId': 1000000228, 'oddsFractional': '3/4', 'oddsAmerican': '-132', 'status': 'OPEN', 'cashOutStatus': 'ENABLED'}], 'tags': ['OFFERED_PREMATCH', 'BET_BUILDER', 'MAIN'], 'sortOrder': 2, 'cashOutStatus': 'ENABLED'}, {'id': 2370854345, 'closed': '2023-03-01T01:00:00Z', 'criterion': {'id': 1001159509, 'label': 'Total Points', 'englishLabel': 'Total Points - Including Overtime', 'order': [], 'occurrenceType': 'POINTS', 'lifetime': 'FULL_TIME_OVERTIME'}, 'betOfferType': {'id': 6, 'name': 'Over/Under', 'englishName': 'Over/Under'}, 'eventId': 1018936986, 'outcomes': [{'id': 3233469834, 'label': 'Over', 'englishLabel': 'Over', 'odds': 1900, 'line': 229000, 'type': 'OT_OVER', 'betOfferId': 2370854345, 'changedDate': '2023-02-28T23:50:17Z', 'oddsFractional': '9/10', 'oddsAmerican': '-112', 'status': 'OPEN', 'cashOutStatus': 'ENABLED'}, {'id': 3233469851, 'label': 'Under', 'englishLabel': 'Under', 'odds': 1920, 'line': 229000, 'type': 'OT_UNDER', 'betOfferId': 2370854345, 'changedDate': '2023-02-28T23:50:17Z', 'oddsFractional': '10/11', 'oddsAmerican': '-109', 'status': 'OPEN', 'cashOutStatus': 'ENABLED'}], 'tags': ['OFFERED_PREMATCH', 'MAIN_LINE', 'BET_BUILDER'], 'sortOrder': 3, 'cashOutStatus': 'ENABLED'}]}\n",
      "\n",
      "{'event': {'id': 1018936769, 'name': 'IND Pacers @ DAL Mavericks', 'nameDelimiter': '@', 'englishName': 'Dallas Mavericks - Indiana Pacers', 'homeName': 'DAL Mavericks', 'awayName': 'IND Pacers', 'start': '2023-03-01T01:30:00Z', 'group': 'NBA', 'groupId': 1000093652, 'path': [{'id': 1000093204, 'name': 'Basketball', 'englishName': 'Basketball', 'termKey': 'basketball'}, {'id': 1000093652, 'name': 'NBA', 'englishName': 'NBA', 'termKey': 'nba'}], 'nonLiveBoCount': 203, 'sport': 'BASKETBALL', 'tags': ['AMERICAN_DISPLAY_FORMAT', 'AWAY_HOME', 'OFFERED_LIVE', 'BET_BUILDER', 'MATCH'], 'state': 'NOT_STARTED'}, 'betOffers': [{'id': 2370874145, 'closed': '2023-03-01T01:30:00Z', 'criterion': {'id': 1001159512, 'label': 'Point Spread', 'englishLabel': 'Handicap - Including Overtime', 'order': [], 'occurrenceType': 'POINTS', 'lifetime': 'FULL_TIME_OVERTIME'}, 'betOfferType': {'id': 1, 'name': 'Handicap', 'englishName': 'Handicap'}, 'eventId': 1018936769, 'outcomes': [{'id': 3233479114, 'label': 'DAL Mavericks', 'englishLabel': 'Dallas Mavericks', 'odds': 1900, 'line': -9000, 'participant': 'DAL Mavericks', 'type': 'OT_ONE', 'betOfferId': 2370874145, 'changedDate': '2023-02-28T23:17:57Z', 'participantId': 1000000221, 'oddsFractional': '9/10', 'oddsAmerican': '-112', 'status': 'OPEN', 'cashOutStatus': 'ENABLED'}, {'id': 3233479127, 'label': 'IND Pacers', 'englishLabel': 'Indiana Pacers', 'odds': 1920, 'line': 9000, 'participant': 'IND Pacers', 'type': 'OT_TWO', 'betOfferId': 2370874145, 'changedDate': '2023-02-28T23:17:57Z', 'participantId': 1000000218, 'oddsFractional': '10/11', 'oddsAmerican': '-109', 'status': 'OPEN', 'cashOutStatus': 'ENABLED'}], 'tags': ['OFFERED_PREMATCH', 'MAIN_LINE', 'BET_BUILDER'], 'sortOrder': 1, 'cashOutStatus': 'ENABLED'}, {'id': 2370840828, 'closed': '2023-03-01T01:30:00Z', 'criterion': {'id': 1001159732, 'label': 'Moneyline', 'englishLabel': 'Including Overtime', 'order': [], 'occurrenceType': 'POINTS', 'lifetime': 'FULL_TIME_OVERTIME'}, 'betOfferType': {'id': 2, 'name': 'Match', 'englishName': 'Match'}, 'eventId': 1018936769, 'outcomes': [{'id': 3233397912, 'label': 'DAL Mavericks', 'englishLabel': 'Dallas Mavericks', 'odds': 1270, 'participant': 'DAL Mavericks', 'type': 'OT_ONE', 'betOfferId': 2370840828, 'changedDate': '2023-02-28T23:17:57Z', 'participantId': 1000000221, 'oddsFractional': '27/100', 'oddsAmerican': '-375', 'status': 'OPEN', 'cashOutStatus': 'ENABLED'}, {'id': 3233397914, 'label': 'IND Pacers', 'englishLabel': 'Indiana Pacers', 'odds': 3900, 'participant': 'IND Pacers', 'type': 'OT_TWO', 'betOfferId': 2370840828, 'changedDate': '2023-02-28T23:17:57Z', 'participantId': 1000000218, 'oddsFractional': '29/10', 'oddsAmerican': '290', 'status': 'OPEN', 'cashOutStatus': 'ENABLED'}], 'tags': ['OFFERED_PREMATCH', 'BET_BUILDER', 'MAIN'], 'sortOrder': 2, 'cashOutStatus': 'ENABLED'}, {'id': 2370840861, 'closed': '2023-03-01T01:30:00Z', 'criterion': {'id': 1001159509, 'label': 'Total Points', 'englishLabel': 'Total Points - Including Overtime', 'order': [], 'occurrenceType': 'POINTS', 'lifetime': 'FULL_TIME_OVERTIME'}, 'betOfferType': {'id': 6, 'name': 'Over/Under', 'englishName': 'Over/Under'}, 'eventId': 1018936769, 'outcomes': [{'id': 3233397982, 'label': 'Over', 'englishLabel': 'Over', 'odds': 1900, 'line': 237000, 'type': 'OT_OVER', 'betOfferId': 2370840861, 'changedDate': '2023-02-28T23:17:57Z', 'oddsFractional': '9/10', 'oddsAmerican': '-112', 'status': 'OPEN', 'cashOutStatus': 'ENABLED'}, {'id': 3233397984, 'label': 'Under', 'englishLabel': 'Under', 'odds': 1930, 'line': 237000, 'type': 'OT_UNDER', 'betOfferId': 2370840861, 'changedDate': '2023-02-28T23:17:57Z', 'oddsFractional': '10/11', 'oddsAmerican': '-108', 'status': 'OPEN', 'cashOutStatus': 'ENABLED'}], 'tags': ['OFFERED_PREMATCH', 'MAIN_LINE', 'BET_BUILDER'], 'sortOrder': 3, 'cashOutStatus': 'ENABLED'}]}\n",
      "\n",
      "{'event': {'id': 1018936638, 'name': 'SA Spurs @ UTA Jazz', 'nameDelimiter': '@', 'englishName': 'Utah Jazz - San Antonio Spurs', 'homeName': 'UTA Jazz', 'awayName': 'SA Spurs', 'start': '2023-03-01T02:00:00Z', 'group': 'NBA', 'groupId': 1000093652, 'path': [{'id': 1000093204, 'name': 'Basketball', 'englishName': 'Basketball', 'termKey': 'basketball'}, {'id': 1000093652, 'name': 'NBA', 'englishName': 'NBA', 'termKey': 'nba'}], 'nonLiveBoCount': 206, 'sport': 'BASKETBALL', 'tags': ['AMERICAN_DISPLAY_FORMAT', 'AWAY_HOME', 'OFFERED_LIVE', 'BET_BUILDER', 'MATCH'], 'state': 'NOT_STARTED'}, 'betOffers': [{'id': 2370849787, 'closed': '2023-03-01T02:00:00Z', 'criterion': {'id': 1001159512, 'label': 'Point Spread', 'englishLabel': 'Handicap - Including Overtime', 'order': [], 'occurrenceType': 'POINTS', 'lifetime': 'FULL_TIME_OVERTIME'}, 'betOfferType': {'id': 1, 'name': 'Handicap', 'englishName': 'Handicap'}, 'eventId': 1018936638, 'outcomes': [{'id': 3233411080, 'label': 'UTA Jazz', 'englishLabel': 'Utah Jazz', 'odds': 1930, 'line': -9500, 'participant': 'UTA Jazz', 'type': 'OT_ONE', 'betOfferId': 2370849787, 'changedDate': '2023-02-28T23:32:00Z', 'participantId': 1000052893, 'oddsFractional': '10/11', 'oddsAmerican': '-108', 'status': 'OPEN', 'cashOutStatus': 'ENABLED'}, {'id': 3233411082, 'label': 'SA Spurs', 'englishLabel': 'San Antonio Spurs', 'odds': 1890, 'line': 9500, 'participant': 'SA Spurs', 'type': 'OT_TWO', 'betOfferId': 2370849787, 'changedDate': '2023-02-28T23:32:00Z', 'participantId': 1000000223, 'oddsFractional': '22/25', 'oddsAmerican': '-113', 'status': 'OPEN', 'cashOutStatus': 'ENABLED'}], 'tags': ['OFFERED_PREMATCH', 'MAIN_LINE', 'BET_BUILDER'], 'sortOrder': 1, 'cashOutStatus': 'ENABLED'}, {'id': 2370849779, 'closed': '2023-03-01T02:00:00Z', 'criterion': {'id': 1001159732, 'label': 'Moneyline', 'englishLabel': 'Including Overtime', 'order': [], 'occurrenceType': 'POINTS', 'lifetime': 'FULL_TIME_OVERTIME'}, 'betOfferType': {'id': 2, 'name': 'Match', 'englishName': 'Match'}, 'eventId': 1018936638, 'outcomes': [{'id': 3233411063, 'label': 'UTA Jazz', 'englishLabel': 'Utah Jazz', 'odds': 1230, 'participant': 'UTA Jazz', 'type': 'OT_ONE', 'betOfferId': 2370849779, 'changedDate': '2023-02-28T23:32:00Z', 'participantId': 1000052893, 'oddsFractional': '2/9', 'oddsAmerican': '-435', 'status': 'OPEN', 'cashOutStatus': 'ENABLED'}, {'id': 3233411065, 'label': 'SA Spurs', 'englishLabel': 'San Antonio Spurs', 'odds': 4400, 'participant': 'SA Spurs', 'type': 'OT_TWO', 'betOfferId': 2370849779, 'changedDate': '2023-02-28T23:32:00Z', 'participantId': 1000000223, 'oddsFractional': '17/5', 'oddsAmerican': '340', 'status': 'OPEN', 'cashOutStatus': 'ENABLED'}], 'tags': ['OFFERED_PREMATCH', 'BET_BUILDER', 'MAIN'], 'sortOrder': 2, 'cashOutStatus': 'ENABLED'}, {'id': 2370849793, 'closed': '2023-03-01T02:00:00Z', 'criterion': {'id': 1001159509, 'label': 'Total Points', 'englishLabel': 'Total Points - Including Overtime', 'order': [], 'occurrenceType': 'POINTS', 'lifetime': 'FULL_TIME_OVERTIME'}, 'betOfferType': {'id': 6, 'name': 'Over/Under', 'englishName': 'Over/Under'}, 'eventId': 1018936638, 'outcomes': [{'id': 3233411092, 'label': 'Over', 'englishLabel': 'Over', 'odds': 1900, 'line': 235500, 'type': 'OT_OVER', 'betOfferId': 2370849793, 'changedDate': '2023-02-28T23:32:00Z', 'oddsFractional': '9/10', 'oddsAmerican': '-112', 'status': 'OPEN', 'cashOutStatus': 'ENABLED'}, {'id': 3233411093, 'label': 'Under', 'englishLabel': 'Under', 'odds': 1920, 'line': 235500, 'type': 'OT_UNDER', 'betOfferId': 2370849793, 'changedDate': '2023-02-28T23:32:00Z', 'oddsFractional': '10/11', 'oddsAmerican': '-109', 'status': 'OPEN', 'cashOutStatus': 'ENABLED'}], 'tags': ['OFFERED_PREMATCH', 'MAIN_LINE', 'BET_BUILDER'], 'sortOrder': 3, 'cashOutStatus': 'ENABLED'}]}\n",
      "\n",
      "{'event': {'id': 1018936814, 'name': 'POR Trail Blazers @ GS Warriors', 'nameDelimiter': '@', 'englishName': 'Golden State Warriors - Portland Trail Blazers', 'homeName': 'GS Warriors', 'awayName': 'POR Trail Blazers', 'start': '2023-03-01T03:00:00Z', 'group': 'NBA', 'groupId': 1000093652, 'path': [{'id': 1000093204, 'name': 'Basketball', 'englishName': 'Basketball', 'termKey': 'basketball'}, {'id': 1000093652, 'name': 'NBA', 'englishName': 'NBA', 'termKey': 'nba'}], 'nonLiveBoCount': 209, 'sport': 'BASKETBALL', 'tags': ['AMERICAN_DISPLAY_FORMAT', 'AWAY_HOME', 'OFFERED_LIVE', 'BET_BUILDER', 'MATCH'], 'state': 'NOT_STARTED'}, 'betOffers': [{'id': 2370854482, 'closed': '2023-03-01T03:00:00Z', 'criterion': {'id': 1001159512, 'label': 'Point Spread', 'englishLabel': 'Handicap - Including Overtime', 'order': [], 'occurrenceType': 'POINTS', 'lifetime': 'FULL_TIME_OVERTIME'}, 'betOfferType': {'id': 1, 'name': 'Handicap', 'englishName': 'Handicap'}, 'eventId': 1018936814, 'outcomes': [{'id': 3233470107, 'label': 'GS Warriors', 'englishLabel': 'Golden State Warriors', 'odds': 1920, 'line': -5000, 'participant': 'GS Warriors', 'type': 'OT_ONE', 'betOfferId': 2370854482, 'changedDate': '2023-02-28T22:52:37Z', 'participantId': 1000000224, 'oddsFractional': '10/11', 'oddsAmerican': '-109', 'status': 'OPEN', 'cashOutStatus': 'ENABLED'}, {'id': 3233470124, 'label': 'POR Trail Blazers', 'englishLabel': 'Portland Trail Blazers', 'odds': 1900, 'line': 5000, 'participant': 'POR Trail Blazers', 'type': 'OT_TWO', 'betOfferId': 2370854482, 'changedDate': '2023-02-28T22:52:37Z', 'participantId': 1000000227, 'oddsFractional': '9/10', 'oddsAmerican': '-112', 'status': 'OPEN', 'cashOutStatus': 'ENABLED'}], 'tags': ['OFFERED_PREMATCH', 'MAIN_LINE', 'BET_BUILDER'], 'sortOrder': 1, 'cashOutStatus': 'ENABLED'}, {'id': 2370820919, 'closed': '2023-03-01T03:00:00Z', 'criterion': {'id': 1001159732, 'label': 'Moneyline', 'englishLabel': 'Including Overtime', 'order': [], 'occurrenceType': 'POINTS', 'lifetime': 'FULL_TIME_OVERTIME'}, 'betOfferType': {'id': 2, 'name': 'Match', 'englishName': 'Match'}, 'eventId': 1018936814, 'outcomes': [{'id': 3233416820, 'label': 'GS Warriors', 'englishLabel': 'Golden State Warriors', 'odds': 1520, 'participant': 'GS Warriors', 'type': 'OT_ONE', 'betOfferId': 2370820919, 'changedDate': '2023-02-28T22:52:37Z', 'participantId': 1000000224, 'oddsFractional': '13/25', 'oddsAmerican': '-195', 'status': 'OPEN', 'cashOutStatus': 'ENABLED'}, {'id': 3233416822, 'label': 'POR Trail Blazers', 'englishLabel': 'Portland Trail Blazers', 'odds': 2600, 'participant': 'POR Trail Blazers', 'type': 'OT_TWO', 'betOfferId': 2370820919, 'changedDate': '2023-02-28T22:52:37Z', 'participantId': 1000000227, 'oddsFractional': '8/5', 'oddsAmerican': '160', 'status': 'OPEN', 'cashOutStatus': 'ENABLED'}], 'tags': ['OFFERED_PREMATCH', 'BET_BUILDER', 'MAIN'], 'sortOrder': 2, 'cashOutStatus': 'ENABLED'}, {'id': 2370854446, 'closed': '2023-03-01T03:00:00Z', 'criterion': {'id': 1001159509, 'label': 'Total Points', 'englishLabel': 'Total Points - Including Overtime', 'order': [], 'occurrenceType': 'POINTS', 'lifetime': 'FULL_TIME_OVERTIME'}, 'betOfferType': {'id': 6, 'name': 'Over/Under', 'englishName': 'Over/Under'}, 'eventId': 1018936814, 'outcomes': [{'id': 3233470040, 'label': 'Over', 'englishLabel': 'Over', 'odds': 1890, 'line': 235000, 'type': 'OT_OVER', 'betOfferId': 2370854446, 'changedDate': '2023-02-28T22:52:37Z', 'oddsFractional': '22/25', 'oddsAmerican': '-113', 'status': 'OPEN', 'cashOutStatus': 'ENABLED'}, {'id': 3233470054, 'label': 'Under', 'englishLabel': 'Under', 'odds': 1930, 'line': 235000, 'type': 'OT_UNDER', 'betOfferId': 2370854446, 'changedDate': '2023-02-28T22:52:37Z', 'oddsFractional': '10/11', 'oddsAmerican': '-108', 'status': 'OPEN', 'cashOutStatus': 'ENABLED'}], 'tags': ['OFFERED_PREMATCH', 'MAIN_LINE', 'BET_BUILDER'], 'sortOrder': 3, 'cashOutStatus': 'ENABLED'}]}\n",
      "\n",
      "{'event': {'id': 1018936787, 'name': 'MIN Timberwolves @ LA Clippers', 'nameDelimiter': '@', 'englishName': 'Los Angeles Clippers - Minnesota Timberwolves', 'homeName': 'LA Clippers', 'awayName': 'MIN Timberwolves', 'start': '2023-03-01T03:00:00Z', 'group': 'NBA', 'groupId': 1000093652, 'path': [{'id': 1000093204, 'name': 'Basketball', 'englishName': 'Basketball', 'termKey': 'basketball'}, {'id': 1000093652, 'name': 'NBA', 'englishName': 'NBA', 'termKey': 'nba'}], 'nonLiveBoCount': 212, 'sport': 'BASKETBALL', 'tags': ['AMERICAN_DISPLAY_FORMAT', 'AWAY_HOME', 'OFFERED_LIVE', 'BET_BUILDER', 'MATCH'], 'state': 'NOT_STARTED'}, 'betOffers': [{'id': 2370849823, 'closed': '2023-03-01T03:00:00Z', 'criterion': {'id': 1001159512, 'label': 'Point Spread', 'englishLabel': 'Handicap - Including Overtime', 'order': [], 'occurrenceType': 'POINTS', 'lifetime': 'FULL_TIME_OVERTIME'}, 'betOfferType': {'id': 1, 'name': 'Handicap', 'englishName': 'Handicap'}, 'eventId': 1018936787, 'outcomes': [{'id': 3233411220, 'label': 'LA Clippers', 'englishLabel': 'Los Angeles Clippers', 'odds': 1900, 'line': -6500, 'participant': 'LA Clippers', 'type': 'OT_ONE', 'betOfferId': 2370849823, 'changedDate': '2023-02-28T23:02:36Z', 'participantId': 1000000225, 'oddsFractional': '9/10', 'oddsAmerican': '-112', 'status': 'OPEN', 'cashOutStatus': 'ENABLED'}, {'id': 3233411223, 'label': 'MIN Timberwolves', 'englishLabel': 'Minnesota Timberwolves', 'odds': 1920, 'line': 6500, 'participant': 'MIN Timberwolves', 'type': 'OT_TWO', 'betOfferId': 2370849823, 'changedDate': '2023-02-28T23:02:36Z', 'participantId': 1000027507, 'oddsFractional': '10/11', 'oddsAmerican': '-109', 'status': 'OPEN', 'cashOutStatus': 'ENABLED'}], 'tags': ['OFFERED_PREMATCH', 'MAIN_LINE', 'BET_BUILDER'], 'sortOrder': 1, 'cashOutStatus': 'ENABLED'}, {'id': 2370849817, 'closed': '2023-03-01T03:00:00Z', 'criterion': {'id': 1001159732, 'label': 'Moneyline', 'englishLabel': 'Including Overtime', 'order': [], 'occurrenceType': 'POINTS', 'lifetime': 'FULL_TIME_OVERTIME'}, 'betOfferType': {'id': 2, 'name': 'Match', 'englishName': 'Match'}, 'eventId': 1018936787, 'outcomes': [{'id': 3233411209, 'label': 'LA Clippers', 'englishLabel': 'Los Angeles Clippers', 'odds': 1400, 'participant': 'LA Clippers', 'type': 'OT_ONE', 'betOfferId': 2370849817, 'changedDate': '2023-02-28T23:02:36Z', 'participantId': 1000000225, 'oddsFractional': '2/5', 'oddsAmerican': '-250', 'status': 'OPEN', 'cashOutStatus': 'ENABLED'}, {'id': 3233411210, 'label': 'MIN Timberwolves', 'englishLabel': 'Minnesota Timberwolves', 'odds': 3050, 'participant': 'MIN Timberwolves', 'type': 'OT_TWO', 'betOfferId': 2370849817, 'changedDate': '2023-02-28T23:02:36Z', 'participantId': 1000027507, 'oddsFractional': '41/20', 'oddsAmerican': '205', 'status': 'OPEN', 'cashOutStatus': 'ENABLED'}], 'tags': ['OFFERED_PREMATCH', 'BET_BUILDER', 'MAIN'], 'sortOrder': 2, 'cashOutStatus': 'ENABLED'}, {'id': 2370849825, 'closed': '2023-03-01T03:00:00Z', 'criterion': {'id': 1001159509, 'label': 'Total Points', 'englishLabel': 'Total Points - Including Overtime', 'order': [], 'occurrenceType': 'POINTS', 'lifetime': 'FULL_TIME_OVERTIME'}, 'betOfferType': {'id': 6, 'name': 'Over/Under', 'englishName': 'Over/Under'}, 'eventId': 1018936787, 'outcomes': [{'id': 3233411225, 'label': 'Over', 'englishLabel': 'Over', 'odds': 1900, 'line': 233500, 'type': 'OT_OVER', 'betOfferId': 2370849825, 'changedDate': '2023-02-28T23:02:36Z', 'oddsFractional': '9/10', 'oddsAmerican': '-112', 'status': 'OPEN', 'cashOutStatus': 'ENABLED'}, {'id': 3233411227, 'label': 'Under', 'englishLabel': 'Under', 'odds': 1920, 'line': 233500, 'type': 'OT_UNDER', 'betOfferId': 2370849825, 'changedDate': '2023-02-28T23:02:36Z', 'oddsFractional': '10/11', 'oddsAmerican': '-109', 'status': 'OPEN', 'cashOutStatus': 'ENABLED'}], 'tags': ['OFFERED_PREMATCH', 'MAIN_LINE', 'BET_BUILDER'], 'sortOrder': 3, 'cashOutStatus': 'ENABLED'}]}\n",
      "\n"
     ]
    }
   ],
   "source": [
    "for game in ub_nba_response['events']:\n",
    "    game_label = game['event']['name']\n",
    "    game_id = game['event']['name']\n",
    "    print(game)\n",
    "    print()"
   ]
  },
  {
   "cell_type": "code",
   "execution_count": 16,
   "id": "cc178f24",
   "metadata": {},
   "outputs": [
    {
     "name": "stdout",
     "output_type": "stream",
     "text": [
      "LA Lakers @ MEM Grizzlies\n",
      "\tPoint Spread\n",
      "\t\tMEM Grizzlies -8.5: -114\n",
      "\t\tLA Lakers 8.5: -107\n",
      "\tMoneyline\n",
      "\t\tMEM Grizzlies: -385\n",
      "\t\tLA Lakers: 300\n",
      "\tTotal Points\n",
      "\t\tOver 230.5: -112\n",
      "\t\tUnder 230.5: -109\n",
      "MIL Bucks @ BKN Nets\n",
      "\tPoint Spread\n",
      "\t\tBKN Nets 7.0: -113\n",
      "\t\tMIL Bucks -7.0: -108\n",
      "\tMoneyline\n",
      "\t\tBKN Nets: 210\n",
      "\t\tMIL Bucks: -265\n",
      "\tTotal Points\n",
      "\t\tOver 230.5: -109\n",
      "\t\tUnder 230.5: -112\n",
      "WAS Wizards @ ATL Hawks\n",
      "\tPoint Spread\n",
      "\t\tATL Hawks -7.0: -113\n",
      "\t\tWAS Wizards 7.0: -108\n",
      "\tMoneyline\n",
      "\t\tATL Hawks: -286\n",
      "\t\tWAS Wizards: 230\n",
      "\tTotal Points\n",
      "\t\tOver 233.5: -113\n",
      "\t\tUnder 233.5: -108\n",
      "CHI Bulls @ TOR Raptors\n",
      "\tPoint Spread\n",
      "\t\tTOR Raptors -5.0: -109\n",
      "\t\tCHI Bulls 5.0: -112\n",
      "\tMoneyline\n",
      "\t\tTOR Raptors: -205\n",
      "\t\tCHI Bulls: 170\n",
      "\tTotal Points\n",
      "\t\tOver 219.5: -109\n",
      "\t\tUnder 219.5: -112\n",
      "DEN Nuggets @ HOU Rockets\n",
      "\tPoint Spread\n",
      "\t\tHOU Rockets 11.0: -110\n",
      "\t\tDEN Nuggets -11.0: -110\n",
      "\tMoneyline\n",
      "\t\tHOU Rockets: 440\n",
      "\t\tDEN Nuggets: -590\n",
      "\tTotal Points\n",
      "\t\tOver 232.5: -108\n",
      "\t\tUnder 232.5: -113\n",
      "SAC Kings @ OKC Thunder\n",
      "\tPoint Spread\n",
      "\t\tOKC Thunder 2.0: -108\n",
      "\t\tSAC Kings -2.0: -113\n",
      "\tMoneyline\n",
      "\t\tOKC Thunder: 112\n",
      "\t\tSAC Kings: -132\n",
      "\tTotal Points\n",
      "\t\tOver 229.0: -112\n",
      "\t\tUnder 229.0: -109\n",
      "IND Pacers @ DAL Mavericks\n",
      "\tPoint Spread\n",
      "\t\tDAL Mavericks -9.0: -112\n",
      "\t\tIND Pacers 9.0: -109\n",
      "\tMoneyline\n",
      "\t\tDAL Mavericks: -375\n",
      "\t\tIND Pacers: 290\n",
      "\tTotal Points\n",
      "\t\tOver 237.0: -112\n",
      "\t\tUnder 237.0: -108\n",
      "SA Spurs @ UTA Jazz\n",
      "\tPoint Spread\n",
      "\t\tUTA Jazz -9.5: -108\n",
      "\t\tSA Spurs 9.5: -113\n",
      "\tMoneyline\n",
      "\t\tUTA Jazz: -435\n",
      "\t\tSA Spurs: 340\n",
      "\tTotal Points\n",
      "\t\tOver 235.5: -112\n",
      "\t\tUnder 235.5: -109\n",
      "POR Trail Blazers @ GS Warriors\n",
      "\tPoint Spread\n",
      "\t\tGS Warriors -5.0: -109\n",
      "\t\tPOR Trail Blazers 5.0: -112\n",
      "\tMoneyline\n",
      "\t\tGS Warriors: -195\n",
      "\t\tPOR Trail Blazers: 160\n",
      "\tTotal Points\n",
      "\t\tOver 235.0: -113\n",
      "\t\tUnder 235.0: -108\n",
      "MIN Timberwolves @ LA Clippers\n",
      "\tPoint Spread\n",
      "\t\tLA Clippers -6.5: -112\n",
      "\t\tMIN Timberwolves 6.5: -109\n",
      "\tMoneyline\n",
      "\t\tLA Clippers: -250\n",
      "\t\tMIN Timberwolves: 205\n",
      "\tTotal Points\n",
      "\t\tOver 233.5: -112\n",
      "\t\tUnder 233.5: -109\n"
     ]
    }
   ],
   "source": [
    "ub_nba_game_list = []\n",
    "\n",
    "for game in ub_nba_response['events']:\n",
    "    game_label = game['event']['name']\n",
    "    game_id = game['event']['id']\n",
    "    #print(game_label)\n",
    "    \n",
    "    offer_list = []\n",
    "    for offer in game['betOffers']:\n",
    "        offer_name = offer['criterion']['label']\n",
    "        #print('\\t'+offer_name)\n",
    "        \n",
    "        outcome_list = []\n",
    "        for outcome in offer['outcomes']:\n",
    "            try:\n",
    "                outcome_line = str(outcome['line']/1000)\n",
    "                outcome_label = outcome['label'] + ' ' + outcome_line\n",
    "            except:\n",
    "                outcome_label = outcome['label']\n",
    "            outcome_odds = outcome['oddsAmerican']\n",
    "            outcome_list.append(\n",
    "                {'label': outcome_label, 'odds': outcome_odds}\n",
    "            )\n",
    "            #print('\\t\\t'+outcome_label+':', outcome_odds)\n",
    "            \n",
    "        offer_list.append(\n",
    "            {'offerName': offer_name, 'outcomes': outcome_list}\n",
    "        )\n",
    "        \n",
    "    ub_nba_game_list.append(\n",
    "        {'game': game_label, 'offers': offer_list}\n",
    "    )\n",
    "    #print()\n",
    "\n",
    "#print('\\n'*10)\n",
    "    \n",
    "for game in ub_nba_game_list:\n",
    "    print(game['game'])\n",
    "    for offer in game['offers']:\n",
    "        print('\\t'+offer['offerName'])\n",
    "        for outcome in offer['outcomes']:\n",
    "            print('\\t\\t'+outcome['label']+ ':', outcome['odds'])"
   ]
  },
  {
   "cell_type": "code",
   "execution_count": null,
   "id": "31530b1c",
   "metadata": {},
   "outputs": [],
   "source": []
  },
  {
   "cell_type": "code",
   "execution_count": null,
   "id": "6600ac1c",
   "metadata": {},
   "outputs": [],
   "source": []
  },
  {
   "cell_type": "code",
   "execution_count": null,
   "id": "6a52d4c7",
   "metadata": {},
   "outputs": [],
   "source": []
  },
  {
   "cell_type": "code",
   "execution_count": null,
   "id": "2f74e77b",
   "metadata": {},
   "outputs": [],
   "source": []
  },
  {
   "cell_type": "code",
   "execution_count": null,
   "id": "24bed88a",
   "metadata": {},
   "outputs": [],
   "source": []
  },
  {
   "cell_type": "code",
   "execution_count": null,
   "id": "f0b9e5e4",
   "metadata": {},
   "outputs": [],
   "source": []
  },
  {
   "cell_type": "code",
   "execution_count": null,
   "id": "c5674bfe",
   "metadata": {},
   "outputs": [],
   "source": [
    "import pandas as pd\n",
    "import json\n",
    "\n",
    "with open(\"NHL.json\", \"r\") as f:\n",
    "    nhl_data = json.loads(f.read())\n",
    "     \n",
    "df = pd.read_json('NHL.json')\n",
    "df = df.explode('markets').reset_index(drop=True)\n",
    "df = df.merge(pd.json_normalize(df['markets']), left_index=True, right_index=True).drop(['markets'], axis=1)\n",
    "df = df.explode('outcomes').reset_index(drop=True)\n",
    "df = df.merge(pd.json_normalize(df['outcomes']), left_index=True, right_index=True).drop(['outcomes'], axis=1)\n",
    "\n",
    "df"
   ]
  },
  {
   "cell_type": "code",
   "execution_count": null,
   "id": "3f0a893f",
   "metadata": {},
   "outputs": [],
   "source": [
    "df[df['game']=='CGY Flames @ PHI Flyers']"
   ]
  },
  {
   "cell_type": "code",
   "execution_count": null,
   "id": "727651ac",
   "metadata": {},
   "outputs": [],
   "source": []
  },
  {
   "cell_type": "code",
   "execution_count": null,
   "id": "797fa944",
   "metadata": {},
   "outputs": [],
   "source": []
  },
  {
   "cell_type": "code",
   "execution_count": null,
   "id": "d842e3b5",
   "metadata": {},
   "outputs": [],
   "source": []
  },
  {
   "cell_type": "code",
   "execution_count": null,
   "id": "5d66f6ca",
   "metadata": {},
   "outputs": [],
   "source": []
  },
  {
   "cell_type": "code",
   "execution_count": null,
   "id": "d5cae5df",
   "metadata": {},
   "outputs": [],
   "source": []
  },
  {
   "cell_type": "code",
   "execution_count": null,
   "id": "8a8fbf82",
   "metadata": {},
   "outputs": [],
   "source": [
    "from barstool_class import Barstool"
   ]
  },
  {
   "cell_type": "code",
   "execution_count": null,
   "id": "a64bebc8",
   "metadata": {},
   "outputs": [],
   "source": [
    "bs_nba = Barstool(league='NBA')\n",
    "bs_games = bs_nba.get_event_ids()\n",
    "bs_odds = bs_nba.get_pregame_odds_df()"
   ]
  },
  {
   "cell_type": "code",
   "execution_count": null,
   "id": "d1f896f8",
   "metadata": {},
   "outputs": [],
   "source": [
    "bs_odds"
   ]
  },
  {
   "cell_type": "code",
   "execution_count": null,
   "id": "df488ccd",
   "metadata": {},
   "outputs": [],
   "source": []
  },
  {
   "cell_type": "code",
   "execution_count": null,
   "id": "17b72a0e",
   "metadata": {},
   "outputs": [],
   "source": []
  },
  {
   "cell_type": "code",
   "execution_count": null,
   "id": "f27621eb",
   "metadata": {},
   "outputs": [],
   "source": []
  },
  {
   "cell_type": "code",
   "execution_count": null,
   "id": "e6a6b61c",
   "metadata": {},
   "outputs": [],
   "source": []
  },
  {
   "cell_type": "code",
   "execution_count": null,
   "id": "588bf56b",
   "metadata": {},
   "outputs": [],
   "source": []
  },
  {
   "cell_type": "code",
   "execution_count": null,
   "id": "1cc26171",
   "metadata": {},
   "outputs": [],
   "source": [
    "from draftkings_class import DraftKings"
   ]
  },
  {
   "cell_type": "code",
   "execution_count": null,
   "id": "586c7070",
   "metadata": {},
   "outputs": [],
   "source": [
    "dk_nba = DraftKings(league='NBA')\n",
    "dk_nba_games = dk_nba.get_event_ids()\n",
    "dk_nba_odds = dk_nba.get_pregame_odds_df()"
   ]
  },
  {
   "cell_type": "code",
   "execution_count": null,
   "id": "2403e312",
   "metadata": {},
   "outputs": [],
   "source": [
    "dk_nba_odds"
   ]
  },
  {
   "cell_type": "code",
   "execution_count": null,
   "id": "fa38ca97",
   "metadata": {},
   "outputs": [],
   "source": []
  }
 ],
 "metadata": {
  "kernelspec": {
   "display_name": "Python 3 (ipykernel)",
   "language": "python",
   "name": "python3"
  },
  "language_info": {
   "codemirror_mode": {
    "name": "ipython",
    "version": 3
   },
   "file_extension": ".py",
   "mimetype": "text/x-python",
   "name": "python",
   "nbconvert_exporter": "python",
   "pygments_lexer": "ipython3",
   "version": "3.10.6"
  }
 },
 "nbformat": 4,
 "nbformat_minor": 5
}
